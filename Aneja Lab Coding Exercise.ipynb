{
  "nbformat": 4,
  "nbformat_minor": 0,
  "metadata": {
    "colab": {
      "name": "Aneja_Public_CE.ipynb",
      "provenance": [],
      "collapsed_sections": []
    },
    "kernelspec": {
      "name": "python3",
      "display_name": "Python 3"
    },
    "language_info": {
      "name": "python"
    }
  },
  "cells": [
    {
      "cell_type": "markdown",
      "metadata": {
        "id": "0OINFoRNeD1v"
      },
      "source": [
        "# 1.\tKaplan Meier Manipulation \n",
        "a.\tPlease see the attached csv file (Aneja_Coding_Excercise_KM.csv) which includes patient level survival data to construct a Kaplan Meier curve. Under the Explanations tab you will see descriptions for data in each column. \n"
      ]
    },
    {
      "cell_type": "code",
      "metadata": {
        "id": "xx3FSfz-T_S4"
      },
      "source": [
        "import pandas as pd\n",
        "import numpy as np"
      ],
      "execution_count": 8,
      "outputs": []
    },
    {
      "cell_type": "code",
      "metadata": {
        "colab": {
          "base_uri": "https://localhost:8080/"
        },
        "id": "d9EZuGFmXhAU",
        "outputId": "dca3fdae-a06c-4133-f61c-5cb2cc06da2b"
      },
      "source": [
        "%pip install lifelines\n",
        "from lifelines import KaplanMeierFitter\n",
        "import matplotlib.pyplot as plt"
      ],
      "execution_count": 9,
      "outputs": [
        {
          "output_type": "stream",
          "name": "stdout",
          "text": [
            "Collecting lifelines\n",
            "  Downloading lifelines-0.26.3-py3-none-any.whl (348 kB)\n",
            "\u001b[?25l\r\u001b[K     |█                               | 10 kB 20.6 MB/s eta 0:00:01\r\u001b[K     |█▉                              | 20 kB 25.7 MB/s eta 0:00:01\r\u001b[K     |██▉                             | 30 kB 22.2 MB/s eta 0:00:01\r\u001b[K     |███▊                            | 40 kB 17.8 MB/s eta 0:00:01\r\u001b[K     |████▊                           | 51 kB 7.9 MB/s eta 0:00:01\r\u001b[K     |█████▋                          | 61 kB 8.8 MB/s eta 0:00:01\r\u001b[K     |██████▋                         | 71 kB 7.2 MB/s eta 0:00:01\r\u001b[K     |███████▌                        | 81 kB 8.0 MB/s eta 0:00:01\r\u001b[K     |████████▌                       | 92 kB 8.1 MB/s eta 0:00:01\r\u001b[K     |█████████▍                      | 102 kB 7.5 MB/s eta 0:00:01\r\u001b[K     |██████████▍                     | 112 kB 7.5 MB/s eta 0:00:01\r\u001b[K     |███████████▎                    | 122 kB 7.5 MB/s eta 0:00:01\r\u001b[K     |████████████▎                   | 133 kB 7.5 MB/s eta 0:00:01\r\u001b[K     |█████████████▏                  | 143 kB 7.5 MB/s eta 0:00:01\r\u001b[K     |██████████████▏                 | 153 kB 7.5 MB/s eta 0:00:01\r\u001b[K     |███████████████                 | 163 kB 7.5 MB/s eta 0:00:01\r\u001b[K     |████████████████                | 174 kB 7.5 MB/s eta 0:00:01\r\u001b[K     |█████████████████               | 184 kB 7.5 MB/s eta 0:00:01\r\u001b[K     |█████████████████▉              | 194 kB 7.5 MB/s eta 0:00:01\r\u001b[K     |██████████████████▉             | 204 kB 7.5 MB/s eta 0:00:01\r\u001b[K     |███████████████████▊            | 215 kB 7.5 MB/s eta 0:00:01\r\u001b[K     |████████████████████▊           | 225 kB 7.5 MB/s eta 0:00:01\r\u001b[K     |█████████████████████▋          | 235 kB 7.5 MB/s eta 0:00:01\r\u001b[K     |██████████████████████▋         | 245 kB 7.5 MB/s eta 0:00:01\r\u001b[K     |███████████████████████▌        | 256 kB 7.5 MB/s eta 0:00:01\r\u001b[K     |████████████████████████▌       | 266 kB 7.5 MB/s eta 0:00:01\r\u001b[K     |█████████████████████████▍      | 276 kB 7.5 MB/s eta 0:00:01\r\u001b[K     |██████████████████████████▍     | 286 kB 7.5 MB/s eta 0:00:01\r\u001b[K     |███████████████████████████▎    | 296 kB 7.5 MB/s eta 0:00:01\r\u001b[K     |████████████████████████████▎   | 307 kB 7.5 MB/s eta 0:00:01\r\u001b[K     |█████████████████████████████▏  | 317 kB 7.5 MB/s eta 0:00:01\r\u001b[K     |██████████████████████████████  | 327 kB 7.5 MB/s eta 0:00:01\r\u001b[K     |███████████████████████████████ | 337 kB 7.5 MB/s eta 0:00:01\r\u001b[K     |████████████████████████████████| 348 kB 7.5 MB/s eta 0:00:01\r\u001b[K     |████████████████████████████████| 348 kB 7.5 MB/s \n",
            "\u001b[?25hRequirement already satisfied: pandas>=0.23.0 in /usr/local/lib/python3.7/dist-packages (from lifelines) (1.1.5)\n",
            "Requirement already satisfied: numpy>=1.14.0 in /usr/local/lib/python3.7/dist-packages (from lifelines) (1.19.5)\n",
            "Requirement already satisfied: autograd>=1.3 in /usr/local/lib/python3.7/dist-packages (from lifelines) (1.3)\n",
            "Requirement already satisfied: scipy>=1.2.0 in /usr/local/lib/python3.7/dist-packages (from lifelines) (1.4.1)\n",
            "Collecting formulaic<0.3,>=0.2.2\n",
            "  Downloading formulaic-0.2.4-py3-none-any.whl (55 kB)\n",
            "\u001b[K     |████████████████████████████████| 55 kB 4.2 MB/s \n",
            "\u001b[?25hCollecting autograd-gamma>=0.3\n",
            "  Downloading autograd-gamma-0.5.0.tar.gz (4.0 kB)\n",
            "Requirement already satisfied: matplotlib>=3.0 in /usr/local/lib/python3.7/dist-packages (from lifelines) (3.2.2)\n",
            "Requirement already satisfied: future>=0.15.2 in /usr/local/lib/python3.7/dist-packages (from autograd>=1.3->lifelines) (0.16.0)\n",
            "Requirement already satisfied: astor in /usr/local/lib/python3.7/dist-packages (from formulaic<0.3,>=0.2.2->lifelines) (0.8.1)\n",
            "Collecting interface-meta>=1.2\n",
            "  Downloading interface_meta-1.2.4-py2.py3-none-any.whl (14 kB)\n",
            "Requirement already satisfied: wrapt in /usr/local/lib/python3.7/dist-packages (from formulaic<0.3,>=0.2.2->lifelines) (1.12.1)\n",
            "Requirement already satisfied: kiwisolver>=1.0.1 in /usr/local/lib/python3.7/dist-packages (from matplotlib>=3.0->lifelines) (1.3.2)\n",
            "Requirement already satisfied: python-dateutil>=2.1 in /usr/local/lib/python3.7/dist-packages (from matplotlib>=3.0->lifelines) (2.8.2)\n",
            "Requirement already satisfied: pyparsing!=2.0.4,!=2.1.2,!=2.1.6,>=2.0.1 in /usr/local/lib/python3.7/dist-packages (from matplotlib>=3.0->lifelines) (2.4.7)\n",
            "Requirement already satisfied: cycler>=0.10 in /usr/local/lib/python3.7/dist-packages (from matplotlib>=3.0->lifelines) (0.10.0)\n",
            "Requirement already satisfied: six in /usr/local/lib/python3.7/dist-packages (from cycler>=0.10->matplotlib>=3.0->lifelines) (1.15.0)\n",
            "Requirement already satisfied: pytz>=2017.2 in /usr/local/lib/python3.7/dist-packages (from pandas>=0.23.0->lifelines) (2018.9)\n",
            "Building wheels for collected packages: autograd-gamma\n",
            "  Building wheel for autograd-gamma (setup.py) ... \u001b[?25l\u001b[?25hdone\n",
            "  Created wheel for autograd-gamma: filename=autograd_gamma-0.5.0-py3-none-any.whl size=4049 sha256=00422cb4fb0430bc514adf4ddd9500427d189bc5c6925cffb6883ea8c404dce2\n",
            "  Stored in directory: /root/.cache/pip/wheels/9f/01/ee/1331593abb5725ff7d8c1333aee93a50a1c29d6ddda9665c9f\n",
            "Successfully built autograd-gamma\n",
            "Installing collected packages: interface-meta, formulaic, autograd-gamma, lifelines\n",
            "Successfully installed autograd-gamma-0.5.0 formulaic-0.2.4 interface-meta-1.2.4 lifelines-0.26.3\n"
          ]
        }
      ]
    },
    {
      "cell_type": "markdown",
      "metadata": {
        "id": "Tt_xuWeGeNf0"
      },
      "source": [
        "b.\tPlease load the CSV into python and plot a Kaplan Meier curve for the patients separated by group. Please be sure to include confidence intervals on the survival curves. "
      ]
    },
    {
      "cell_type": "code",
      "metadata": {
        "id": "A5jLi4Y3UPyM"
      },
      "source": [
        "df1 = pd.read_csv(\"Aneja_Coding_Excercise_KM.csv\")"
      ],
      "execution_count": 14,
      "outputs": []
    },
    {
      "cell_type": "code",
      "metadata": {
        "colab": {
          "base_uri": "https://localhost:8080/"
        },
        "id": "4QDPc3BbYd2T",
        "outputId": "3020e009-a873-4e77-b173-981ae9d445e3"
      },
      "source": [
        "# Call fitter and fit with time and event data for group miR-137 (case)\n",
        "kmf_case = KaplanMeierFitter()\n",
        "kmf_case.fit(df1[df1.Group == \"miR-137\"].Time,df1[df1.Group == \"miR-137\"].Event)"
      ],
      "execution_count": 15,
      "outputs": [
        {
          "output_type": "execute_result",
          "data": {
            "text/plain": [
              "<lifelines.KaplanMeierFitter:\"KM_estimate\", fitted with 34 total observations, 0 right-censored observations>"
            ]
          },
          "metadata": {},
          "execution_count": 15
        }
      ]
    },
    {
      "cell_type": "code",
      "metadata": {
        "colab": {
          "base_uri": "https://localhost:8080/",
          "height": 312
        },
        "id": "O5TNeLaaZqeU",
        "outputId": "42de4f45-6a4e-4dda-fcbd-34d6a4a38604"
      },
      "source": [
        "# Create survival function for group miR-137, plot visualisations\n",
        "kmf_case.survival_function_\n",
        "kmf_case.plot_survival_function()\n",
        "plt.xlabel(\"timeline\")\n",
        "plt.ylabel(\"Probability of event\")\n",
        "plt.title(\"Kaplan Meier Curve for Cases with CI\")"
      ],
      "execution_count": 16,
      "outputs": [
        {
          "output_type": "execute_result",
          "data": {
            "text/plain": [
              "Text(0.5, 1.0, 'Kaplan Meier Curve for Cases with CI')"
            ]
          },
          "metadata": {},
          "execution_count": 16
        },
        {
          "output_type": "display_data",
          "data": {
            "image/png": "[encoded data removed]",
            "text/plain": [
              "<Figure size 432x288 with 1 Axes>"
            ]
          },
          "metadata": {
            "needs_background": "light"
          }
        }
      ]
    },
    {
      "cell_type": "code",
      "metadata": {
        "colab": {
          "base_uri": "https://localhost:8080/"
        },
        "id": "yveh7K4IawNy",
        "outputId": "6c36402f-8bb8-4f24-9531-02466dfc338e"
      },
      "source": [
        "# Call fitter and fit with time and event data for control group\n",
        "kmf_control = KaplanMeierFitter()\n",
        "kmf_control.fit(df1[df1.Group == \"control\"].Time,df1[df1.Group == \"control\"].Event)"
      ],
      "execution_count": 17,
      "outputs": [
        {
          "output_type": "execute_result",
          "data": {
            "text/plain": [
              "<lifelines.KaplanMeierFitter:\"KM_estimate\", fitted with 129 total observations, 7 right-censored observations>"
            ]
          },
          "metadata": {},
          "execution_count": 17
        }
      ]
    },
    {
      "cell_type": "code",
      "metadata": {
        "colab": {
          "base_uri": "https://localhost:8080/",
          "height": 312
        },
        "id": "0Hg1WmSFa-JJ",
        "outputId": "6c6187ca-c1b9-4306-cb0d-980225a4a508"
      },
      "source": [
        "# Create survival function for  control group, plot visualisations\n",
        "kmf_control.survival_function_\n",
        "kmf_control.plot_survival_function()\n",
        "plt.xlabel(\"timeline\")\n",
        "plt.ylabel(\"Probability of event\")\n",
        "plt.title(\"Kaplan Meier Curve for Controls with CI\")"
      ],
      "execution_count": 18,
      "outputs": [
        {
          "output_type": "execute_result",
          "data": {
            "text/plain": [
              "Text(0.5, 1.0, 'Kaplan Meier Curve for Controls with CI')"
            ]
          },
          "metadata": {},
          "execution_count": 18
        },
        {
          "output_type": "display_data",
          "data": {
            "image/png": "[encoded data removed]",
            "text/plain": [
              "<Figure size 432x288 with 1 Axes>"
            ]
          },
          "metadata": {
            "needs_background": "light"
          }
        }
      ]
    },
    {
      "cell_type": "code",
      "metadata": {
        "colab": {
          "base_uri": "https://localhost:8080/",
          "height": 295
        },
        "id": "mi6F7Owx0iX1",
        "outputId": "d4635352-f902-48c4-fbc8-95a5bf1ce4e9"
      },
      "source": [
        "# put two curves together\n",
        "kmf_case.plot_survival_function()\n",
        "kmf_control.plot_survival_function()\n",
        "plt.ylabel(\"KM curve\")\n",
        "plt.legend([\"case curve\",\"control curve\"])\n",
        "plt.title(\"Kaplan Meier Curve for Cases and Controls with CI\")\n",
        "plt.savefig('Aneja_KM_Curves.png')"
      ],
      "execution_count": 19,
      "outputs": [
        {
          "output_type": "display_data",
          "data": {
            "image/png": "[encoded data removed]",
            "text/plain": [
              "<Figure size 432x288 with 1 Axes>"
            ]
          },
          "metadata": {
            "needs_background": "light"
          }
        }
      ]
    },
    {
      "cell_type": "code",
      "metadata": {
        "colab": {
          "base_uri": "https://localhost:8080/",
          "height": 300
        },
        "id": "ph1dc5POjXxi",
        "outputId": "e94484f0-8fd1-4a14-bb42-6549b516bffb"
      },
      "source": [
        "# Alternative way to generate the plot (did not figure out how to include CI)\n",
        "from lifelines.plotting import rmst_plot\n",
        "\n",
        "rmst_plot(kmf_case,kmf_control)\n",
        "plt.ylabel(\"KM Curve\")\n",
        "plt.legend([\"case curve\",\"control curve\"])"
      ],
      "execution_count": 20,
      "outputs": [
        {
          "output_type": "execute_result",
          "data": {
            "text/plain": [
              "<matplotlib.legend.Legend at 0x7fd67955ec50>"
            ]
          },
          "metadata": {},
          "execution_count": 20
        },
        {
          "output_type": "display_data",
          "data": {
            "image/png": "[encoded data removed]",
            "text/plain": [
              "<Figure size 432x288 with 1 Axes>"
            ]
          },
          "metadata": {
            "needs_background": "light"
          }
        }
      ]
    },
    {
      "cell_type": "markdown",
      "metadata": {
        "id": "3mPVXatkeSCi"
      },
      "source": [
        "c.\tPlease perform a log-rank test to assess statistical significance between the groups. \n"
      ]
    },
    {
      "cell_type": "markdown",
      "metadata": {
        "id": "oE7cWeCj8Q8B"
      },
      "source": [
        ""
      ]
    },
    {
      "cell_type": "code",
      "metadata": {
        "id": "oQHDmTCdeUNT"
      },
      "source": [
        "# import logrank_test fro  library lifelines\n",
        "from lifelines.statistics import logrank_test"
      ],
      "execution_count": 21,
      "outputs": []
    },
    {
      "cell_type": "markdown",
      "metadata": {
        "id": "xJI2zGzVhqLH"
      },
      "source": [
        "H_o: Cases and Controls have same Kaplan Meier curve\n",
        "\n",
        "H_a: Cases and Controls have different Kaplan Meier curves"
      ]
    },
    {
      "cell_type": "code",
      "metadata": {
        "colab": {
          "base_uri": "https://localhost:8080/",
          "height": 204
        },
        "id": "Tsqn4sGifF6S",
        "outputId": "0d6c7f6c-6b6a-4729-9a52-0105d6e9dba4"
      },
      "source": [
        "lrt = logrank_test(df1[df1.Group == \"miR-137\"].Time,df1[df1.Group == \"control\"].Time,df1[df1.Group == \"miR-137\"].Event,df1[df1.Group == \"control\"].Event)\n",
        "lrt.print_summary()"
      ],
      "execution_count": 22,
      "outputs": [
        {
          "output_type": "display_data",
          "data": {
            "text/latex": "\\begin{tabular}{lrrr}\n\\toprule\n{} &  test\\_statistic &             p &   -log2(p) \\\\\n\\midrule\n0 &      122.249126 &  2.035983e-28 &  91.988261 \\\\\n\\bottomrule\n\\end{tabular}\n",
            "text/html": [
              "<div>\n",
              "<style scoped>\n",
              "    .dataframe tbody tr th:only-of-type {\n",
              "        vertical-align: middle;\n",
              "    }\n",
              "\n",
              "    .dataframe tbody tr th {\n",
              "        vertical-align: top;\n",
              "    }\n",
              "\n",
              "    .dataframe thead th {\n",
              "        text-align: right;\n",
              "    }\n",
              "</style>\n",
              "<table border=\"1\" class=\"dataframe\">\n",
              "  <tbody>\n",
              "    <tr>\n",
              "      <th>t_0</th>\n",
              "      <td>-1</td>\n",
              "    </tr>\n",
              "    <tr>\n",
              "      <th>null_distribution</th>\n",
              "      <td>chi squared</td>\n",
              "    </tr>\n",
              "    <tr>\n",
              "      <th>degrees_of_freedom</th>\n",
              "      <td>1</td>\n",
              "    </tr>\n",
              "    <tr>\n",
              "      <th>test_name</th>\n",
              "      <td>logrank_test</td>\n",
              "    </tr>\n",
              "  </tbody>\n",
              "</table>\n",
              "</div><table border=\"1\" class=\"dataframe\">\n",
              "  <thead>\n",
              "    <tr style=\"text-align: right;\">\n",
              "      <th></th>\n",
              "      <th>test_statistic</th>\n",
              "      <th>p</th>\n",
              "      <th>-log2(p)</th>\n",
              "    </tr>\n",
              "  </thead>\n",
              "  <tbody>\n",
              "    <tr>\n",
              "      <th>0</th>\n",
              "      <td>122.25</td>\n",
              "      <td>&lt;0.005</td>\n",
              "      <td>91.99</td>\n",
              "    </tr>\n",
              "  </tbody>\n",
              "</table>"
            ],
            "text/plain": [
              "<lifelines.StatisticalResult: logrank_test>\n",
              "               t_0 = -1\n",
              " null_distribution = chi squared\n",
              "degrees_of_freedom = 1\n",
              "         test_name = logrank_test\n",
              "\n",
              "---\n",
              " test_statistic      p  -log2(p)\n",
              "         122.25 <0.005     91.99"
            ]
          },
          "metadata": {}
        }
      ]
    },
    {
      "cell_type": "markdown",
      "metadata": {
        "id": "DxGu7M82hY4e"
      },
      "source": [
        "Since we obtained a p value which is smaller than 0.005, we reject our null hypothese and conclude that controls and cases have different Kaplan Meier curves"
      ]
    },
    {
      "cell_type": "code",
      "metadata": {
        "colab": {
          "base_uri": "https://localhost:8080/"
        },
        "id": "CS4jpFn0iv1W",
        "outputId": "24d47c6c-83c4-442b-b3ac-64d7ee17ee30"
      },
      "source": [
        "df1.Predicted.quantile([0.25,0.5,0.75])"
      ],
      "execution_count": 23,
      "outputs": [
        {
          "output_type": "execute_result",
          "data": {
            "text/plain": [
              "0.25    17.5\n",
              "0.50    33.0\n",
              "0.75    49.0\n",
              "Name: Predicted, dtype: float64"
            ]
          },
          "metadata": {},
          "execution_count": 23
        }
      ]
    },
    {
      "cell_type": "code",
      "metadata": {
        "id": "KGvoi6DQ3K-J"
      },
      "source": [
        "df_q1 = df1[df1.Predicted < 17.5]\n",
        "df_q2 = df1[(df1.Predicted < 33) & (df1.Predicted > 17.5)]\n",
        "df_q3 = df1[(df1.Predicted < 49) & (df1.Predicted >= 33)]\n",
        "df_q4 = df1[df1.Predicted >= 49]"
      ],
      "execution_count": 24,
      "outputs": []
    },
    {
      "cell_type": "code",
      "metadata": {
        "colab": {
          "base_uri": "https://localhost:8080/"
        },
        "id": "I7sRBl-D6Q8p",
        "outputId": "1c68587a-adfc-4d53-9714-9e33f9567a12"
      },
      "source": [
        "df_q1['ql'] = 1\n",
        "df_q2['ql'] = 2\n",
        "df_q3['ql'] = 3\n",
        "df_q4['ql'] = 4"
      ],
      "execution_count": 27,
      "outputs": [
        {
          "output_type": "stream",
          "name": "stderr",
          "text": [
            "/usr/local/lib/python3.7/dist-packages/ipykernel_launcher.py:1: SettingWithCopyWarning:\n",
            "\n",
            "\n",
            "A value is trying to be set on a copy of a slice from a DataFrame.\n",
            "Try using .loc[row_indexer,col_indexer] = value instead\n",
            "\n",
            "See the caveats in the documentation: https://pandas.pydata.org/pandas-docs/stable/user_guide/indexing.html#returning-a-view-versus-a-copy\n",
            "\n",
            "/usr/local/lib/python3.7/dist-packages/ipykernel_launcher.py:2: SettingWithCopyWarning:\n",
            "\n",
            "\n",
            "A value is trying to be set on a copy of a slice from a DataFrame.\n",
            "Try using .loc[row_indexer,col_indexer] = value instead\n",
            "\n",
            "See the caveats in the documentation: https://pandas.pydata.org/pandas-docs/stable/user_guide/indexing.html#returning-a-view-versus-a-copy\n",
            "\n",
            "/usr/local/lib/python3.7/dist-packages/ipykernel_launcher.py:3: SettingWithCopyWarning:\n",
            "\n",
            "\n",
            "A value is trying to be set on a copy of a slice from a DataFrame.\n",
            "Try using .loc[row_indexer,col_indexer] = value instead\n",
            "\n",
            "See the caveats in the documentation: https://pandas.pydata.org/pandas-docs/stable/user_guide/indexing.html#returning-a-view-versus-a-copy\n",
            "\n",
            "/usr/local/lib/python3.7/dist-packages/ipykernel_launcher.py:4: SettingWithCopyWarning:\n",
            "\n",
            "\n",
            "A value is trying to be set on a copy of a slice from a DataFrame.\n",
            "Try using .loc[row_indexer,col_indexer] = value instead\n",
            "\n",
            "See the caveats in the documentation: https://pandas.pydata.org/pandas-docs/stable/user_guide/indexing.html#returning-a-view-versus-a-copy\n",
            "\n"
          ]
        }
      ]
    },
    {
      "cell_type": "code",
      "metadata": {
        "colab": {
          "base_uri": "https://localhost:8080/",
          "height": 279
        },
        "id": "10gb1UQq4bJN",
        "outputId": "67c9c70a-4e27-46fc-82b4-f26ca81f011d"
      },
      "source": [
        "kmf_q1 = KaplanMeierFitter()\n",
        "kmf_q1.fit(df_q1.Time,df_q1.Event)\n",
        "kmf_q2 = KaplanMeierFitter()\n",
        "kmf_q2.fit(df_q2.Time,df_q2.Event)\n",
        "kmf_q3 = KaplanMeierFitter()\n",
        "kmf_q3.fit(df_q3.Time,df_q3.Event)\n",
        "kmf_q4 = KaplanMeierFitter()\n",
        "kmf_q4.fit(df_q4.Time,df_q4.Event)\n",
        "kmf_q1.plot_survival_function()\n",
        "kmf_q2.plot_survival_function()\n",
        "kmf_q3.plot_survival_function()\n",
        "kmf_q4.plot_survival_function()\n",
        "plt.ylabel(\"KM Curve\")\n",
        "plt.legend([\"q1\",\"q2\",\"q3\",\"q4\"])\n",
        "plt.savefig('Aneja_KM_Curves_2.png')"
      ],
      "execution_count": 28,
      "outputs": [
        {
          "output_type": "display_data",
          "data": {
            "image/png": "[encoded data removed]",
            "text/plain": [
              "<Figure size 432x288 with 1 Axes>"
            ]
          },
          "metadata": {
            "needs_background": "light"
          }
        }
      ]
    },
    {
      "cell_type": "code",
      "metadata": {
        "id": "_bmohUUN7yL-"
      },
      "source": [
        "from lifelines.statistics import multivariate_logrank_test"
      ],
      "execution_count": 29,
      "outputs": []
    },
    {
      "cell_type": "markdown",
      "metadata": {
        "id": "NxGiYU2I8lPc"
      },
      "source": [
        "H_o: all four quartiles have the same KM curve\n",
        "\n",
        "H_a: at least one of the four quartiles differs from the other"
      ]
    },
    {
      "cell_type": "code",
      "metadata": {
        "colab": {
          "base_uri": "https://localhost:8080/",
          "height": 204
        },
        "id": "zv_HvhOQ6v1D",
        "outputId": "6d261c5b-f1be-48a9-b312-b36014d8722f"
      },
      "source": [
        "frames = [df_q1,df_q2,df_q3,df_q4]\n",
        "df1_withq = pd.concat(frames)\n",
        "mlt = multivariate_logrank_test(df1_withq['Time'], df1_withq['ql'], df1_withq['Event'])\n",
        "mlt.print_summary()"
      ],
      "execution_count": 30,
      "outputs": [
        {
          "output_type": "display_data",
          "data": {
            "text/latex": "\\begin{tabular}{lrrr}\n\\toprule\n{} &  test\\_statistic &         p &  -log2(p) \\\\\n\\midrule\n0 &        3.373984 &  0.337477 &  1.567137 \\\\\n\\bottomrule\n\\end{tabular}\n",
            "text/html": [
              "<div>\n",
              "<style scoped>\n",
              "    .dataframe tbody tr th:only-of-type {\n",
              "        vertical-align: middle;\n",
              "    }\n",
              "\n",
              "    .dataframe tbody tr th {\n",
              "        vertical-align: top;\n",
              "    }\n",
              "\n",
              "    .dataframe thead th {\n",
              "        text-align: right;\n",
              "    }\n",
              "</style>\n",
              "<table border=\"1\" class=\"dataframe\">\n",
              "  <tbody>\n",
              "    <tr>\n",
              "      <th>t_0</th>\n",
              "      <td>-1</td>\n",
              "    </tr>\n",
              "    <tr>\n",
              "      <th>null_distribution</th>\n",
              "      <td>chi squared</td>\n",
              "    </tr>\n",
              "    <tr>\n",
              "      <th>degrees_of_freedom</th>\n",
              "      <td>3</td>\n",
              "    </tr>\n",
              "    <tr>\n",
              "      <th>test_name</th>\n",
              "      <td>multivariate_logrank_test</td>\n",
              "    </tr>\n",
              "  </tbody>\n",
              "</table>\n",
              "</div><table border=\"1\" class=\"dataframe\">\n",
              "  <thead>\n",
              "    <tr style=\"text-align: right;\">\n",
              "      <th></th>\n",
              "      <th>test_statistic</th>\n",
              "      <th>p</th>\n",
              "      <th>-log2(p)</th>\n",
              "    </tr>\n",
              "  </thead>\n",
              "  <tbody>\n",
              "    <tr>\n",
              "      <th>0</th>\n",
              "      <td>3.37</td>\n",
              "      <td>0.34</td>\n",
              "      <td>1.57</td>\n",
              "    </tr>\n",
              "  </tbody>\n",
              "</table>"
            ],
            "text/plain": [
              "<lifelines.StatisticalResult: multivariate_logrank_test>\n",
              "               t_0 = -1\n",
              " null_distribution = chi squared\n",
              "degrees_of_freedom = 3\n",
              "         test_name = multivariate_logrank_test\n",
              "\n",
              "---\n",
              " test_statistic    p  -log2(p)\n",
              "           3.37 0.34      1.57"
            ]
          },
          "metadata": {}
        }
      ]
    },
    {
      "cell_type": "markdown",
      "metadata": {
        "id": "XC2xTt5Q8XHq"
      },
      "source": [
        "We obtained a p value of 0.34, which is greater than 0.05, so we fail to reject our null hypothese and conclude that all four quartiles have the same KM curves."
      ]
    },
    {
      "cell_type": "markdown",
      "metadata": {
        "id": "bhQrKyHo-6nS"
      },
      "source": [
        "# 2.\tMNIST CNN\n",
        "a.\tPlease download the mnist dataset using keras (https://keras.io/api/datasets/mnist/#load_data-function)\n"
      ]
    },
    {
      "cell_type": "code",
      "metadata": {
        "colab": {
          "base_uri": "https://localhost:8080/"
        },
        "id": "Ah9dgYfp-9gR",
        "outputId": "af6a3263-23d6-41f6-8337-0973ce44e786"
      },
      "source": [
        "import tensorflow as tf\n",
        "from tensorflow import keras\n",
        "\n",
        "# import the mnist dataset\n",
        "(train_images, train_labels), (test_images, test_labels) = keras.datasets.mnist.load_data()"
      ],
      "execution_count": 1,
      "outputs": [
        {
          "output_type": "stream",
          "name": "stdout",
          "text": [
            "Downloading data from https://storage.googleapis.com/tensorflow/tf-keras-datasets/mnist.npz\n",
            "11493376/11490434 [==============================] - 0s 0us/step\n",
            "11501568/11490434 [==============================] - 0s 0us/step\n"
          ]
        }
      ]
    },
    {
      "cell_type": "code",
      "metadata": {
        "colab": {
          "base_uri": "https://localhost:8080/"
        },
        "id": "alygUrd9AfTt",
        "outputId": "b764c6c4-2da0-42a7-cd1b-563fff5fa581"
      },
      "source": [
        "print(\"Train info\",train_images.shape, train_labels.shape)\n",
        "print(\"Test info\",test_images.shape, test_labels.shape)\n",
        "train_images = train_images.reshape((train_images.shape[0],28*28))\n",
        "train_images = train_images.astype('float32')/255\n",
        "\n",
        "test_images = test_images.reshape((test_images.shape[0],28*28))\n",
        "test_images = test_images.astype('float32')/255\n",
        "\n",
        "from tensorflow.  keras.utils import to_categorical\n",
        "\n",
        "train_labels_cat = to_categorical(train_labels)\n",
        "test_labels_cat = to_categorical(test_labels)"
      ],
      "execution_count": 2,
      "outputs": [
        {
          "output_type": "stream",
          "name": "stdout",
          "text": [
            "Train info (60000, 28, 28) (60000,)\n",
            "Test info (10000, 28, 28) (10000,)\n"
          ]
        }
      ]
    },
    {
      "cell_type": "markdown",
      "metadata": {
        "id": "FHb1G-HD13Xi"
      },
      "source": [
        "b.\tPlease construct a 2D convolutional neural network with the following architecture\n",
        "i.\tInput shape (28,28,1)\n",
        "ii.\tConvolutional layer size, 32 filters, kernel size (3,3)\n",
        "iii.\tMax Pooling layer (pool size 2,2)\n",
        "iv.\tConvolution layer size, 64 filters, kernel size (2,2)\n",
        "v.\tFlatten layer\n",
        "vi.\tDense layer size 20\n",
        "vii.\tOutput based on the number of classes\n",
        "c.\tPlease train the network for 5 epochs with a learning rate of 0.001.\n",
        "d.\tPlease choose the appropriate optimizer and loss function for such a classification problem\n",
        "\n"
      ]
    },
    {
      "cell_type": "code",
      "metadata": {
        "colab": {
          "base_uri": "https://localhost:8080/"
        },
        "id": "X9BKwd8xHY3E",
        "outputId": "e6eabe68-3511-4ce1-ad82-2d3194eab3c9"
      },
      "source": [
        "#\n",
        "# Make sure the shape of the input is correct\n",
        "train_images = train_images.reshape((train_images.shape[0],28,28,1))\n",
        "test_images = test_images.reshape((test_images.shape[0],28,28,1))\n",
        "#\n",
        "cnn_network = keras.models.Sequential()\n",
        "#\n",
        "# First convolutional layer\n",
        "cnn_network.add(keras.layers.Conv2D(32,(3,3),activation='relu',input_shape=(28,28,1)))\n",
        "# Pool\n",
        "cnn_network.add(keras.layers.MaxPooling2D((2,2)))\n",
        "#\n",
        "# Second convolutional layer\n",
        "cnn_network.add(keras.layers.Conv2D(64,(2,2),activation='relu'))\n",
        "#\n",
        "# Connect to a dense output layer\n",
        "cnn_network.add(keras.layers.Flatten())\n",
        "cnn_network.add(keras.layers.Dense(20,activation='relu'))\n",
        "cnn_network.add(keras.layers.Dense(10,activation='softmax'))\n",
        "#\n",
        "# Compile\n",
        "opt = keras.optimizers.Adam(learning_rate=0.001)\n",
        "METRICS = ['accuracy',keras.metrics.AUC(name='auc')]\n",
        "cnn_network.compile(optimizer=opt,loss='categorical_crossentropy',metrics=METRICS)\n",
        "#\n",
        "# Fit/save/print summary\n",
        "history = cnn_network.fit(train_images,train_labels_cat,epochs=5,batch_size=256,validation_data=(test_images,test_labels_cat))"
      ],
      "execution_count": 3,
      "outputs": [
        {
          "output_type": "stream",
          "name": "stdout",
          "text": [
            "Epoch 1/5\n",
            "235/235 [==============================] - 34s 139ms/step - loss: 0.3595 - accuracy: 0.8914 - auc: 0.9913 - val_loss: 0.0955 - val_accuracy: 0.9691 - val_auc: 0.9992\n",
            "Epoch 2/5\n",
            "235/235 [==============================] - 32s 137ms/step - loss: 0.0898 - accuracy: 0.9732 - auc: 0.9988 - val_loss: 0.0677 - val_accuracy: 0.9786 - val_auc: 0.9994\n",
            "Epoch 3/5\n",
            "235/235 [==============================] - 32s 138ms/step - loss: 0.0598 - accuracy: 0.9823 - auc: 0.9993 - val_loss: 0.0467 - val_accuracy: 0.9851 - val_auc: 0.9996\n",
            "Epoch 4/5\n",
            "235/235 [==============================] - 32s 138ms/step - loss: 0.0480 - accuracy: 0.9855 - auc: 0.9995 - val_loss: 0.0403 - val_accuracy: 0.9868 - val_auc: 0.9998\n",
            "Epoch 5/5\n",
            "235/235 [==============================] - 33s 138ms/step - loss: 0.0390 - accuracy: 0.9881 - auc: 0.9995 - val_loss: 0.0408 - val_accuracy: 0.9857 - val_auc: 0.9997\n"
          ]
        }
      ]
    },
    {
      "cell_type": "code",
      "metadata": {
        "colab": {
          "base_uri": "https://localhost:8080/"
        },
        "id": "UdoGGk2kKKH6",
        "outputId": "cb9745eb-7e60-45a1-fe35-ad95b31395fb"
      },
      "source": [
        "print(cnn_network.summary())"
      ],
      "execution_count": 4,
      "outputs": [
        {
          "output_type": "stream",
          "name": "stdout",
          "text": [
            "Model: \"sequential\"\n",
            "_________________________________________________________________\n",
            "Layer (type)                 Output Shape              Param #   \n",
            "=================================================================\n",
            "conv2d (Conv2D)              (None, 26, 26, 32)        320       \n",
            "_________________________________________________________________\n",
            "max_pooling2d (MaxPooling2D) (None, 13, 13, 32)        0         \n",
            "_________________________________________________________________\n",
            "conv2d_1 (Conv2D)            (None, 12, 12, 64)        8256      \n",
            "_________________________________________________________________\n",
            "flatten (Flatten)            (None, 9216)              0         \n",
            "_________________________________________________________________\n",
            "dense (Dense)                (None, 20)                184340    \n",
            "_________________________________________________________________\n",
            "dense_1 (Dense)              (None, 10)                210       \n",
            "=================================================================\n",
            "Total params: 193,126\n",
            "Trainable params: 193,126\n",
            "Non-trainable params: 0\n",
            "_________________________________________________________________\n",
            "None\n"
          ]
        }
      ]
    },
    {
      "cell_type": "markdown",
      "metadata": {
        "id": "rivGUjs12CiY"
      },
      "source": [
        "e.\tPlease plot the training and validation loss curves and save as png titled “Aneja_TV.png”\n",
        "\n",
        "f.\tPlease print the accuracy and AUC of the final trained model."
      ]
    },
    {
      "cell_type": "code",
      "metadata": {
        "colab": {
          "base_uri": "https://localhost:8080/"
        },
        "id": "xmSSuCHAKWnf",
        "outputId": "3a591f60-eab1-4477-d01b-1db19718fa6c"
      },
      "source": [
        "test_loss, test_acc,test_auc = cnn_network.evaluate(test_images,test_labels_cat)\n",
        "print(\"CNN: Test sample loss: \",test_loss, \"; Test sample accuracy:\",test_acc,\"; AUC: \",test_auc)"
      ],
      "execution_count": 5,
      "outputs": [
        {
          "output_type": "stream",
          "name": "stdout",
          "text": [
            "313/313 [==============================] - 2s 7ms/step - loss: 0.0408 - accuracy: 0.9857 - auc: 0.9997\n",
            "CNN: Test sample loss:  0.04082244634628296 ; Test sample accuracy: 0.9857000112533569 ; AUC:  0.9997426271438599\n"
          ]
        }
      ]
    },
    {
      "cell_type": "code",
      "metadata": {
        "id": "KTuKdjXKNq0u"
      },
      "source": [
        "import plotly.express as px"
      ],
      "execution_count": 6,
      "outputs": []
    },
    {
      "cell_type": "code",
      "metadata": {
        "colab": {
          "base_uri": "https://localhost:8080/",
          "height": 298
        },
        "id": "xsFtiFdkSNiq",
        "outputId": "39e3eb1a-30a5-4713-c847-7d3ff1392ca1"
      },
      "source": [
        "plt.scatter(np.array(range(0,len(history.history['loss']))),history.history['loss'], c='b', marker='x', label='1')\n",
        "plt.scatter(np.array(range(0,len(history.history['loss']))),history.history['val_loss'], c='r', marker='s', label='-1')\n",
        "plt.legend([\"training loss\",\"Testing Loss\"])\n",
        "plt.title('Plot of the Train and Validation Loss ')\n",
        "plt.show()\n",
        "plt.savefig('Aneja_TV.png')"
      ],
      "execution_count": 10,
      "outputs": [
        {
          "output_type": "display_data",
          "data": {
            "image/png": "[encoded data removed]",
            "text/plain": [
              "<Figure size 432x288 with 1 Axes>"
            ]
          },
          "metadata": {
            "needs_background": "light"
          }
        },
        {
          "output_type": "display_data",
          "data": {
            "text/plain": [
              "<Figure size 432x288 with 0 Axes>"
            ]
          },
          "metadata": {}
        }
      ]
    }
  ]
}